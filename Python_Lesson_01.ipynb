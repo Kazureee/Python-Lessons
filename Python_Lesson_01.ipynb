{
  "nbformat": 4,
  "nbformat_minor": 0,
  "metadata": {
    "colab": {
      "provenance": [],
      "name": "Python Lesson 01"
    },
    "kernelspec": {
      "name": "python3",
      "display_name": "Python 3"
    },
    "language_info": {
      "name": "python"
    }
  },
  "cells": [
    {
      "cell_type": "code",
      "source": [
        "#1. Write a Python program to check if a given number is even or odd.\n",
        "number = int(input())\n",
        "checker = number % 2\n",
        "\n",
        "if checker > 0:\n",
        "  print(\"The number is ODD\")\n",
        "else:\n",
        "  print(\"The number is EVEN\")\n"
      ],
      "metadata": {
        "colab": {
          "base_uri": "https://localhost:8080/"
        },
        "id": "1Vv-MKqaVYhA",
        "outputId": "3230d27b-3877-4918-9d1a-72cb889ad9b7"
      },
      "execution_count": null,
      "outputs": [
        {
          "output_type": "stream",
          "name": "stdout",
          "text": [
            "1421321\n",
            "The number is ODD\n"
          ]
        }
      ]
    },
    {
      "cell_type": "code",
      "source": [
        "#Create a function that takes a list of numbers and returns the sum of all elements in the list.\n",
        "list = []\n",
        "\n",
        "while True:\n",
        "  element = input(\"Input an element: \")\n",
        "  if element.lower() == \"stop\":\n",
        "    break\n",
        "  list.append(element)\n",
        "print(f\"The list are {list}\")\n",
        "\n"
      ],
      "metadata": {
        "colab": {
          "base_uri": "https://localhost:8080/"
        },
        "id": "wNiArvaxW__H",
        "outputId": "bd5070cc-a4c1-4be9-ef78-3de29d4537ab"
      },
      "execution_count": null,
      "outputs": [
        {
          "output_type": "stream",
          "name": "stdout",
          "text": [
            "Input an element: 1\n",
            "Input an element: 2\n",
            "Input an element: 3\n",
            "Input an element: 4\n",
            "Input an element: 5\n",
            "Input an element: Stop\n",
            "The list are ['1', '2', '3', '4', '5']\n"
          ]
        }
      ]
    },
    {
      "cell_type": "code",
      "source": [
        "#factorial\n",
        "n = int(input(\"factorial of \"))\n",
        "fact = 1\n",
        "\n",
        "for i in range (1, n+1):\n",
        "  fact = fact * i\n",
        "\n",
        "print(f\"is: {fact}\")"
      ],
      "metadata": {
        "colab": {
          "base_uri": "https://localhost:8080/"
        },
        "id": "W6hljwNjaWqg",
        "outputId": "8f0c9a28-e0aa-42b5-febb-43e8d3959ae5"
      },
      "execution_count": null,
      "outputs": [
        {
          "output_type": "stream",
          "name": "stdout",
          "text": [
            "factorial of : 3\n",
            "is: 6\n"
          ]
        }
      ]
    },
    {
      "cell_type": "code",
      "source": [
        "#per element\n",
        "fruits = [\"apple\", \"banana\", \"cherry\"]\n",
        "for x in fruits:\n",
        "  print(x)"
      ],
      "metadata": {
        "colab": {
          "base_uri": "https://localhost:8080/"
        },
        "id": "G0sHltYtcoWY",
        "outputId": "13aaf7d8-832c-4cc7-86c5-e246f57c054d"
      },
      "execution_count": null,
      "outputs": [
        {
          "output_type": "stream",
          "name": "stdout",
          "text": [
            "apple\n",
            "banana\n",
            "cherry\n"
          ]
        }
      ]
    },
    {
      "cell_type": "code",
      "source": [
        "#per char\n",
        "for x in \"banana\":\n",
        "  print(x)"
      ],
      "metadata": {
        "colab": {
          "base_uri": "https://localhost:8080/"
        },
        "id": "qDoggFQaC1xu",
        "outputId": "8d4a173f-b159-4f7b-b5b1-4a909e995068"
      },
      "execution_count": null,
      "outputs": [
        {
          "output_type": "stream",
          "name": "stdout",
          "text": [
            "b\n",
            "a\n",
            "n\n",
            "a\n",
            "n\n",
            "a\n"
          ]
        }
      ]
    },
    {
      "cell_type": "code",
      "source": [
        "# in range (start, limit, skipping)\n",
        "for x in range (1, 11, 2):\n",
        "  print(x)"
      ],
      "metadata": {
        "colab": {
          "base_uri": "https://localhost:8080/"
        },
        "id": "IgbebcICD685",
        "outputId": "2e9b2de4-c0f2-40f9-bac8-5b7156f76561"
      },
      "execution_count": null,
      "outputs": [
        {
          "output_type": "stream",
          "name": "stdout",
          "text": [
            "1\n",
            "3\n",
            "5\n",
            "7\n",
            "9\n"
          ]
        }
      ]
    },
    {
      "cell_type": "code",
      "source": [
        "#try"
      ],
      "metadata": {
        "id": "Z8dGJAHbMRYd"
      },
      "execution_count": null,
      "outputs": []
    }
  ]
}