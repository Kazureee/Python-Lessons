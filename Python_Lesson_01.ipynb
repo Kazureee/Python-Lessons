{
  "nbformat": 4,
  "nbformat_minor": 0,
  "metadata": {
    "colab": {
      "provenance": [],
      "name": "Python Lesson 01"
    },
    "kernelspec": {
      "name": "python3",
      "display_name": "Python 3"
    },
    "language_info": {
      "name": "python"
    }
  },
  "cells": [
    {
      "cell_type": "code",
      "source": [
        "#1. Write a Python program to check if a given number is even or odd.\n",
        "number = int(input())\n",
        "checker = number % 2\n",
        "\n",
        "if checker > 0:\n",
        "  print(\"The number is ODD\")\n",
        "else:\n",
        "  print(\"The number is EVEN\")\n"
      ],
      "metadata": {
        "colab": {
          "base_uri": "https://localhost:8080/"
        },
        "id": "1Vv-MKqaVYhA",
        "outputId": "3230d27b-3877-4918-9d1a-72cb889ad9b7"
      },
      "execution_count": null,
      "outputs": [
        {
          "output_type": "stream",
          "name": "stdout",
          "text": [
            "1421321\n",
            "The number is ODD\n"
          ]
        }
      ]
    },
    {
      "cell_type": "code",
      "source": [
        "#Create a function that takes a list of numbers and returns the sum of all elements in the list.\n",
        "list = []\n",
        "\n",
        "while True:\n",
        "  element = input(\"Input an element: \")\n",
        "  if element.lower() == \"stop\":\n",
        "    break\n",
        "  list.append(element)\n",
        "print(f\"The list are {list}\")\n",
        "\n"
      ],
      "metadata": {
        "colab": {
          "base_uri": "https://localhost:8080/"
        },
        "id": "wNiArvaxW__H",
        "outputId": "bd5070cc-a4c1-4be9-ef78-3de29d4537ab"
      },
      "execution_count": null,
      "outputs": [
        {
          "output_type": "stream",
          "name": "stdout",
          "text": [
            "Input an element: 1\n",
            "Input an element: 2\n",
            "Input an element: 3\n",
            "Input an element: 4\n",
            "Input an element: 5\n",
            "Input an element: Stop\n",
            "The list are ['1', '2', '3', '4', '5']\n"
          ]
        }
      ]
    },
    {
      "cell_type": "code",
      "source": [
        "#factorial\n",
        "n = int(input(\"factorial of \"))\n",
        "fact = 1\n",
        "\n",
        "for i in range (1, n+1):\n",
        "  fact = fact * i\n",
        "\n",
        "print(f\"is: {fact}\")"
      ],
      "metadata": {
        "colab": {
          "base_uri": "https://localhost:8080/"
        },
        "id": "W6hljwNjaWqg",
        "outputId": "8f0c9a28-e0aa-42b5-febb-43e8d3959ae5"
      },
      "execution_count": null,
      "outputs": [
        {
          "output_type": "stream",
          "name": "stdout",
          "text": [
            "factorial of : 3\n",
            "is: 6\n"
          ]
        }
      ]
    },
    {
      "cell_type": "code",
      "source": [
        "#per element\n",
        "fruits = [\"apple\", \"banana\", \"cherry\"]\n",
        "for x in fruits:\n",
        "  print(x)"
      ],
      "metadata": {
        "colab": {
          "base_uri": "https://localhost:8080/"
        },
        "id": "G0sHltYtcoWY",
        "outputId": "13aaf7d8-832c-4cc7-86c5-e246f57c054d"
      },
      "execution_count": null,
      "outputs": [
        {
          "output_type": "stream",
          "name": "stdout",
          "text": [
            "apple\n",
            "banana\n",
            "cherry\n"
          ]
        }
      ]
    },
    {
      "cell_type": "code",
      "source": [
        "#per char\n",
        "for x in \"banana\":\n",
        "  print(x)"
      ],
      "metadata": {
        "colab": {
          "base_uri": "https://localhost:8080/"
        },
        "id": "qDoggFQaC1xu",
        "outputId": "8d4a173f-b159-4f7b-b5b1-4a909e995068"
      },
      "execution_count": null,
      "outputs": [
        {
          "output_type": "stream",
          "name": "stdout",
          "text": [
            "b\n",
            "a\n",
            "n\n",
            "a\n",
            "n\n",
            "a\n"
          ]
        }
      ]
    },
    {
      "cell_type": "code",
      "source": [
        "# in range (start, limit, skipping)\n",
        "for x in range (1, 11, 2):\n",
        "  print(x)"
      ],
      "metadata": {
        "colab": {
          "base_uri": "https://localhost:8080/"
        },
        "id": "IgbebcICD685",
        "outputId": "2e9b2de4-c0f2-40f9-bac8-5b7156f76561"
      },
      "execution_count": null,
      "outputs": [
        {
          "output_type": "stream",
          "name": "stdout",
          "text": [
            "1\n",
            "3\n",
            "5\n",
            "7\n",
            "9\n"
          ]
        }
      ]
    },
    {
      "cell_type": "code",
      "source": [
        "# Write a Python function to count the occurrences of a specific character in a given string.\n",
        "\n",
        "string = input(\"Please enter your text (Enter if you want to count all the letters): \").lower()\n",
        "coun = input(\"What should we count? \")\n",
        "\n",
        "c = string.count(coun)\n",
        "print(c)"
      ],
      "metadata": {
        "id": "Z8dGJAHbMRYd",
        "colab": {
          "base_uri": "https://localhost:8080/"
        },
        "outputId": "8e6f670b-d495-4e5a-ebd3-136363a07584"
      },
      "execution_count": 17,
      "outputs": [
        {
          "output_type": "stream",
          "name": "stdout",
          "text": [
            "Please enter your text (Enter if you want to count all the letters): Top notcher\n",
            "What should we count? t\n",
            "2\n"
          ]
        }
      ]
    },
    {
      "cell_type": "code",
      "source": [
        "thisdict = {}\n",
        "\n",
        "while True:\n",
        "  key = input(\"Input key: \")\n",
        "  if key.lower() == \"stop\":\n",
        "    break\n",
        "\n",
        "  value = input(\"Input value: \")\n",
        "\n",
        "  thisdict[key] = value\n",
        "\n",
        "sorted_dict = dict(sorted(thisdict.items()))  # Sorting by keys\n",
        "print(sorted_dict)"
      ],
      "metadata": {
        "colab": {
          "base_uri": "https://localhost:8080/",
          "height": 287
        },
        "id": "sXjY6SIYUcFa",
        "outputId": "f670479c-8c42-4edb-8f7f-dfb2b4c719b3"
      },
      "execution_count": 59,
      "outputs": [
        {
          "name": "stdout",
          "output_type": "stream",
          "text": [
            "Input key: Car\n",
            "Input value: Vios\n",
            "Input key: Animal\n",
            "Input value: Cat\n",
            "Input key: stop\n"
          ]
        },
        {
          "output_type": "error",
          "ename": "TypeError",
          "evalue": "'dict' object is not callable",
          "traceback": [
            "\u001b[0;31m---------------------------------------------------------------------------\u001b[0m",
            "\u001b[0;31mTypeError\u001b[0m                                 Traceback (most recent call last)",
            "\u001b[0;32m<ipython-input-59-807a98d74467>\u001b[0m in \u001b[0;36m<cell line: 12>\u001b[0;34m()\u001b[0m\n\u001b[1;32m     10\u001b[0m   \u001b[0mthisdict\u001b[0m\u001b[0;34m[\u001b[0m\u001b[0mkey\u001b[0m\u001b[0;34m]\u001b[0m \u001b[0;34m=\u001b[0m \u001b[0mvalue\u001b[0m\u001b[0;34m\u001b[0m\u001b[0;34m\u001b[0m\u001b[0m\n\u001b[1;32m     11\u001b[0m \u001b[0;34m\u001b[0m\u001b[0m\n\u001b[0;32m---> 12\u001b[0;31m \u001b[0msorted_dict\u001b[0m \u001b[0;34m=\u001b[0m \u001b[0mdict\u001b[0m\u001b[0;34m(\u001b[0m\u001b[0msorted\u001b[0m\u001b[0;34m(\u001b[0m\u001b[0mthisdict\u001b[0m\u001b[0;34m.\u001b[0m\u001b[0mitems\u001b[0m\u001b[0;34m(\u001b[0m\u001b[0;34m)\u001b[0m\u001b[0;34m)\u001b[0m\u001b[0;34m)\u001b[0m  \u001b[0;31m# Sorting by keys\u001b[0m\u001b[0;34m\u001b[0m\u001b[0;34m\u001b[0m\u001b[0m\n\u001b[0m\u001b[1;32m     13\u001b[0m \u001b[0mprint\u001b[0m\u001b[0;34m(\u001b[0m\u001b[0msorted_dict\u001b[0m\u001b[0;34m)\u001b[0m\u001b[0;34m\u001b[0m\u001b[0;34m\u001b[0m\u001b[0m\n",
            "\u001b[0;31mTypeError\u001b[0m: 'dict' object is not callable"
          ]
        }
      ]
    },
    {
      "cell_type": "code",
      "source": [],
      "metadata": {
        "colab": {
          "base_uri": "https://localhost:8080/"
        },
        "id": "lammHhzhc-hX",
        "outputId": "7bba81a5-bf4d-431f-b592-cac439117180"
      },
      "execution_count": 58,
      "outputs": [
        {
          "output_type": "stream",
          "name": "stdout",
          "text": [
            "<class 'dict'>\n"
          ]
        }
      ]
    },
    {
      "cell_type": "code",
      "source": [],
      "metadata": {
        "id": "6U_7KlmCg8LZ"
      },
      "execution_count": null,
      "outputs": []
    }
  ]
}