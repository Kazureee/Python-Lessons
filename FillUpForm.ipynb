import tkinter as tk
from tkinter import messagebox

def submit_form():
    name = name_entry.get()
    age = age_entry.get()
    email = email_entry.get()
    gender = gender_var.get()

    if not name or not age or not email or gender == "Select Gender":
        messagebox.showerror("Error", "All fields must be filled!")
        return

    try:
        age = int(age)
    except ValueError:
        messagebox.showerror("Error", "Age must be a number!")
        return

    messagebox.showinfo("Form Submitted", f"Name: {name}\nAge: {age}\nEmail: {email}\nGender: {gender}")

# Create the main application window
root = tk.Tk()
root.title("Fill-Up Form")

# Labels and Input Fields
tk.Label(root, text="Name:").grid(row=0, column=0, padx=10, pady=5, sticky="w")
name_entry = tk.Entry(root)
name_entry.grid(row=0, column=1, padx=10, pady=5)

tk.Label(root, text="Age:").grid(row=1, column=0, padx=10, pady=5, sticky="w")
age_entry = tk.Entry(root)
age_entry.grid(row=1, column=1, padx=10, pady=5)

tk.Label(root, text="Email:").grid(row=2, column=0, padx=10, pady=5, sticky="w")
email_entry = tk.Entry(root)
email_entry.grid(row=2, column=1, padx=10, pady=5)

tk.Label(root, text="Gender:").grid(row=3, column=0, padx=10, pady=5, sticky="w")
gender_var = tk.StringVar()
gender_var.set("Select Gender")
gender_options = ["Male", "Female", "Other"]
gender_dropdown = tk.OptionMenu(root, gender_var, *gender_options)
gender_dropdown.grid(row=3, column=1, padx=10, pady=5)

# Submit Button
submit_button = tk.Button(root, text="Submit", command=submit_form)
submit_button.grid(row=4, columnspan=2, pady=10)

# Start the Tkinter event loop
root.mainloop()
