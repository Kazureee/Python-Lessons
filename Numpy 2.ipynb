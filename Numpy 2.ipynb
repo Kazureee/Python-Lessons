import numpy as np

# Create a random array
arr = np.random.rand(5, 3)  # 5 rows, 3 columns 

# Find the maximum value in each column
column_max = arr.max(axis=0) 

# Find the minimum value in each row
row_min = arr.min(axis=1) 

# Find the indices of the maximum values in each column
column_max_indices = arr.argmax(axis=0) 

# Find the indices of the minimum values in each row
row_min_indices = arr.argmin(axis=1)

print("Array:\n", arr)
print("Maximum value in each column:", column_max)
print("Minimum value in each row:", row_min)
print("Indices of maximum values in each column:", column_max_indices)
print("Indices of minimum values in each row:", row_min_indices)
