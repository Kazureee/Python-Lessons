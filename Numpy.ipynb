import numpy as np

# Create a NumPy array
data = np.array([1, 2, 3, 4, 5]) 

# Perform operations on the array
squared_data = data ** 2  # Element-wise squaring
sum_of_data = np.sum(data) 
mean_of_data = np.mean(data) 

# Create a 2D array
two_d_array = np.array([[1, 2, 3], [4, 5, 6]])

# Accessing elements
first_row = two_d_array[0, :] 
first_column = two_d_array[:, 0]

# Array slicing
sliced_array = data[1:4]  # Elements from index 1 to 3 (exclusive)

# Array shape and size
print("Shape of data:", data.shape)
print("Size of data:", data.size)

# Print results
print("Squared data:", squared_data)
print("Sum of data:", sum_of_data)
print("Mean of data:", mean_of_data)
print("First row:", first_row)
print("First column:", first_column)
print("Sliced array:", sliced_array)
